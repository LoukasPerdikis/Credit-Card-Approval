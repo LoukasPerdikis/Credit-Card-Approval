{
 "cells": [
  {
   "cell_type": "markdown",
   "id": "5713667c",
   "metadata": {},
   "source": [
    "# Import libraries"
   ]
  },
  {
   "cell_type": "code",
   "execution_count": 2,
   "id": "1d678719",
   "metadata": {},
   "outputs": [],
   "source": [
    "import pandas as pd"
   ]
  },
  {
   "cell_type": "markdown",
   "id": "e0975853",
   "metadata": {},
   "source": [
    "### Interesting raw data information\n",
    "* The source files do not contain a consolidated combination of inputs and outputs - the outputs are found in a different file (credit_record.csv) to the inputs file (application_record)\n",
    "* Best approach is to load both in and see what we are dealing with"
   ]
  },
  {
   "cell_type": "code",
   "execution_count": 3,
   "id": "6522f319",
   "metadata": {},
   "outputs": [],
   "source": [
    "app_raw = pd.read_csv('application_record.csv')\n",
    "credit_raw = pd.read_csv('credit_record.csv')"
   ]
  },
  {
   "cell_type": "code",
   "execution_count": 4,
   "id": "21b57b0d",
   "metadata": {},
   "outputs": [
    {
     "data": {
      "application/vnd.microsoft.datawrangler.viewer.v0+json": {
       "columns": [
        {
         "name": "index",
         "rawType": "int64",
         "type": "integer"
        },
        {
         "name": "ID",
         "rawType": "int64",
         "type": "integer"
        },
        {
         "name": "CODE_GENDER",
         "rawType": "object",
         "type": "string"
        },
        {
         "name": "FLAG_OWN_CAR",
         "rawType": "object",
         "type": "string"
        },
        {
         "name": "FLAG_OWN_REALTY",
         "rawType": "object",
         "type": "string"
        },
        {
         "name": "CNT_CHILDREN",
         "rawType": "int64",
         "type": "integer"
        },
        {
         "name": "AMT_INCOME_TOTAL",
         "rawType": "float64",
         "type": "float"
        },
        {
         "name": "NAME_INCOME_TYPE",
         "rawType": "object",
         "type": "string"
        },
        {
         "name": "NAME_EDUCATION_TYPE",
         "rawType": "object",
         "type": "string"
        },
        {
         "name": "NAME_FAMILY_STATUS",
         "rawType": "object",
         "type": "string"
        },
        {
         "name": "NAME_HOUSING_TYPE",
         "rawType": "object",
         "type": "string"
        },
        {
         "name": "DAYS_BIRTH",
         "rawType": "int64",
         "type": "integer"
        },
        {
         "name": "DAYS_EMPLOYED",
         "rawType": "int64",
         "type": "integer"
        },
        {
         "name": "FLAG_MOBIL",
         "rawType": "int64",
         "type": "integer"
        },
        {
         "name": "FLAG_WORK_PHONE",
         "rawType": "int64",
         "type": "integer"
        },
        {
         "name": "FLAG_PHONE",
         "rawType": "int64",
         "type": "integer"
        },
        {
         "name": "FLAG_EMAIL",
         "rawType": "int64",
         "type": "integer"
        },
        {
         "name": "OCCUPATION_TYPE",
         "rawType": "object",
         "type": "unknown"
        },
        {
         "name": "CNT_FAM_MEMBERS",
         "rawType": "float64",
         "type": "float"
        }
       ],
       "ref": "903214a4-44ab-455a-97b2-2baf201e27a8",
       "rows": [
        [
         "0",
         "5008804",
         "M",
         "Y",
         "Y",
         "0",
         "427500.0",
         "Working",
         "Higher education",
         "Civil marriage",
         "Rented apartment",
         "-12005",
         "-4542",
         "1",
         "1",
         "0",
         "0",
         null,
         "2.0"
        ],
        [
         "1",
         "5008805",
         "M",
         "Y",
         "Y",
         "0",
         "427500.0",
         "Working",
         "Higher education",
         "Civil marriage",
         "Rented apartment",
         "-12005",
         "-4542",
         "1",
         "1",
         "0",
         "0",
         null,
         "2.0"
        ],
        [
         "2",
         "5008806",
         "M",
         "Y",
         "Y",
         "0",
         "112500.0",
         "Working",
         "Secondary / secondary special",
         "Married",
         "House / apartment",
         "-21474",
         "-1134",
         "1",
         "0",
         "0",
         "0",
         "Security staff",
         "2.0"
        ],
        [
         "3",
         "5008808",
         "F",
         "N",
         "Y",
         "0",
         "270000.0",
         "Commercial associate",
         "Secondary / secondary special",
         "Single / not married",
         "House / apartment",
         "-19110",
         "-3051",
         "1",
         "0",
         "1",
         "1",
         "Sales staff",
         "1.0"
        ],
        [
         "4",
         "5008809",
         "F",
         "N",
         "Y",
         "0",
         "270000.0",
         "Commercial associate",
         "Secondary / secondary special",
         "Single / not married",
         "House / apartment",
         "-19110",
         "-3051",
         "1",
         "0",
         "1",
         "1",
         "Sales staff",
         "1.0"
        ]
       ],
       "shape": {
        "columns": 18,
        "rows": 5
       }
      },
      "text/html": [
       "<div>\n",
       "<style scoped>\n",
       "    .dataframe tbody tr th:only-of-type {\n",
       "        vertical-align: middle;\n",
       "    }\n",
       "\n",
       "    .dataframe tbody tr th {\n",
       "        vertical-align: top;\n",
       "    }\n",
       "\n",
       "    .dataframe thead th {\n",
       "        text-align: right;\n",
       "    }\n",
       "</style>\n",
       "<table border=\"1\" class=\"dataframe\">\n",
       "  <thead>\n",
       "    <tr style=\"text-align: right;\">\n",
       "      <th></th>\n",
       "      <th>ID</th>\n",
       "      <th>CODE_GENDER</th>\n",
       "      <th>FLAG_OWN_CAR</th>\n",
       "      <th>FLAG_OWN_REALTY</th>\n",
       "      <th>CNT_CHILDREN</th>\n",
       "      <th>AMT_INCOME_TOTAL</th>\n",
       "      <th>NAME_INCOME_TYPE</th>\n",
       "      <th>NAME_EDUCATION_TYPE</th>\n",
       "      <th>NAME_FAMILY_STATUS</th>\n",
       "      <th>NAME_HOUSING_TYPE</th>\n",
       "      <th>DAYS_BIRTH</th>\n",
       "      <th>DAYS_EMPLOYED</th>\n",
       "      <th>FLAG_MOBIL</th>\n",
       "      <th>FLAG_WORK_PHONE</th>\n",
       "      <th>FLAG_PHONE</th>\n",
       "      <th>FLAG_EMAIL</th>\n",
       "      <th>OCCUPATION_TYPE</th>\n",
       "      <th>CNT_FAM_MEMBERS</th>\n",
       "    </tr>\n",
       "  </thead>\n",
       "  <tbody>\n",
       "    <tr>\n",
       "      <th>0</th>\n",
       "      <td>5008804</td>\n",
       "      <td>M</td>\n",
       "      <td>Y</td>\n",
       "      <td>Y</td>\n",
       "      <td>0</td>\n",
       "      <td>427500.0</td>\n",
       "      <td>Working</td>\n",
       "      <td>Higher education</td>\n",
       "      <td>Civil marriage</td>\n",
       "      <td>Rented apartment</td>\n",
       "      <td>-12005</td>\n",
       "      <td>-4542</td>\n",
       "      <td>1</td>\n",
       "      <td>1</td>\n",
       "      <td>0</td>\n",
       "      <td>0</td>\n",
       "      <td>NaN</td>\n",
       "      <td>2.0</td>\n",
       "    </tr>\n",
       "    <tr>\n",
       "      <th>1</th>\n",
       "      <td>5008805</td>\n",
       "      <td>M</td>\n",
       "      <td>Y</td>\n",
       "      <td>Y</td>\n",
       "      <td>0</td>\n",
       "      <td>427500.0</td>\n",
       "      <td>Working</td>\n",
       "      <td>Higher education</td>\n",
       "      <td>Civil marriage</td>\n",
       "      <td>Rented apartment</td>\n",
       "      <td>-12005</td>\n",
       "      <td>-4542</td>\n",
       "      <td>1</td>\n",
       "      <td>1</td>\n",
       "      <td>0</td>\n",
       "      <td>0</td>\n",
       "      <td>NaN</td>\n",
       "      <td>2.0</td>\n",
       "    </tr>\n",
       "    <tr>\n",
       "      <th>2</th>\n",
       "      <td>5008806</td>\n",
       "      <td>M</td>\n",
       "      <td>Y</td>\n",
       "      <td>Y</td>\n",
       "      <td>0</td>\n",
       "      <td>112500.0</td>\n",
       "      <td>Working</td>\n",
       "      <td>Secondary / secondary special</td>\n",
       "      <td>Married</td>\n",
       "      <td>House / apartment</td>\n",
       "      <td>-21474</td>\n",
       "      <td>-1134</td>\n",
       "      <td>1</td>\n",
       "      <td>0</td>\n",
       "      <td>0</td>\n",
       "      <td>0</td>\n",
       "      <td>Security staff</td>\n",
       "      <td>2.0</td>\n",
       "    </tr>\n",
       "    <tr>\n",
       "      <th>3</th>\n",
       "      <td>5008808</td>\n",
       "      <td>F</td>\n",
       "      <td>N</td>\n",
       "      <td>Y</td>\n",
       "      <td>0</td>\n",
       "      <td>270000.0</td>\n",
       "      <td>Commercial associate</td>\n",
       "      <td>Secondary / secondary special</td>\n",
       "      <td>Single / not married</td>\n",
       "      <td>House / apartment</td>\n",
       "      <td>-19110</td>\n",
       "      <td>-3051</td>\n",
       "      <td>1</td>\n",
       "      <td>0</td>\n",
       "      <td>1</td>\n",
       "      <td>1</td>\n",
       "      <td>Sales staff</td>\n",
       "      <td>1.0</td>\n",
       "    </tr>\n",
       "    <tr>\n",
       "      <th>4</th>\n",
       "      <td>5008809</td>\n",
       "      <td>F</td>\n",
       "      <td>N</td>\n",
       "      <td>Y</td>\n",
       "      <td>0</td>\n",
       "      <td>270000.0</td>\n",
       "      <td>Commercial associate</td>\n",
       "      <td>Secondary / secondary special</td>\n",
       "      <td>Single / not married</td>\n",
       "      <td>House / apartment</td>\n",
       "      <td>-19110</td>\n",
       "      <td>-3051</td>\n",
       "      <td>1</td>\n",
       "      <td>0</td>\n",
       "      <td>1</td>\n",
       "      <td>1</td>\n",
       "      <td>Sales staff</td>\n",
       "      <td>1.0</td>\n",
       "    </tr>\n",
       "  </tbody>\n",
       "</table>\n",
       "</div>"
      ],
      "text/plain": [
       "        ID CODE_GENDER FLAG_OWN_CAR FLAG_OWN_REALTY  CNT_CHILDREN  \\\n",
       "0  5008804           M            Y               Y             0   \n",
       "1  5008805           M            Y               Y             0   \n",
       "2  5008806           M            Y               Y             0   \n",
       "3  5008808           F            N               Y             0   \n",
       "4  5008809           F            N               Y             0   \n",
       "\n",
       "   AMT_INCOME_TOTAL      NAME_INCOME_TYPE            NAME_EDUCATION_TYPE  \\\n",
       "0          427500.0               Working               Higher education   \n",
       "1          427500.0               Working               Higher education   \n",
       "2          112500.0               Working  Secondary / secondary special   \n",
       "3          270000.0  Commercial associate  Secondary / secondary special   \n",
       "4          270000.0  Commercial associate  Secondary / secondary special   \n",
       "\n",
       "     NAME_FAMILY_STATUS  NAME_HOUSING_TYPE  DAYS_BIRTH  DAYS_EMPLOYED  \\\n",
       "0        Civil marriage   Rented apartment      -12005          -4542   \n",
       "1        Civil marriage   Rented apartment      -12005          -4542   \n",
       "2               Married  House / apartment      -21474          -1134   \n",
       "3  Single / not married  House / apartment      -19110          -3051   \n",
       "4  Single / not married  House / apartment      -19110          -3051   \n",
       "\n",
       "   FLAG_MOBIL  FLAG_WORK_PHONE  FLAG_PHONE  FLAG_EMAIL OCCUPATION_TYPE  \\\n",
       "0           1                1           0           0             NaN   \n",
       "1           1                1           0           0             NaN   \n",
       "2           1                0           0           0  Security staff   \n",
       "3           1                0           1           1     Sales staff   \n",
       "4           1                0           1           1     Sales staff   \n",
       "\n",
       "   CNT_FAM_MEMBERS  \n",
       "0              2.0  \n",
       "1              2.0  \n",
       "2              2.0  \n",
       "3              1.0  \n",
       "4              1.0  "
      ]
     },
     "execution_count": 4,
     "metadata": {},
     "output_type": "execute_result"
    }
   ],
   "source": [
    "app_raw.head()"
   ]
  },
  {
   "cell_type": "code",
   "execution_count": 5,
   "id": "ab5282ec",
   "metadata": {},
   "outputs": [
    {
     "data": {
      "application/vnd.microsoft.datawrangler.viewer.v0+json": {
       "columns": [
        {
         "name": "index",
         "rawType": "int64",
         "type": "integer"
        },
        {
         "name": "ID",
         "rawType": "int64",
         "type": "integer"
        },
        {
         "name": "MONTHS_BALANCE",
         "rawType": "int64",
         "type": "integer"
        },
        {
         "name": "STATUS",
         "rawType": "object",
         "type": "string"
        }
       ],
       "ref": "339bf51c-a1e0-4219-b499-4fee31bf9a59",
       "rows": [
        [
         "0",
         "5001711",
         "0",
         "X"
        ],
        [
         "1",
         "5001711",
         "-1",
         "0"
        ],
        [
         "2",
         "5001711",
         "-2",
         "0"
        ],
        [
         "3",
         "5001711",
         "-3",
         "0"
        ],
        [
         "4",
         "5001712",
         "0",
         "C"
        ]
       ],
       "shape": {
        "columns": 3,
        "rows": 5
       }
      },
      "text/html": [
       "<div>\n",
       "<style scoped>\n",
       "    .dataframe tbody tr th:only-of-type {\n",
       "        vertical-align: middle;\n",
       "    }\n",
       "\n",
       "    .dataframe tbody tr th {\n",
       "        vertical-align: top;\n",
       "    }\n",
       "\n",
       "    .dataframe thead th {\n",
       "        text-align: right;\n",
       "    }\n",
       "</style>\n",
       "<table border=\"1\" class=\"dataframe\">\n",
       "  <thead>\n",
       "    <tr style=\"text-align: right;\">\n",
       "      <th></th>\n",
       "      <th>ID</th>\n",
       "      <th>MONTHS_BALANCE</th>\n",
       "      <th>STATUS</th>\n",
       "    </tr>\n",
       "  </thead>\n",
       "  <tbody>\n",
       "    <tr>\n",
       "      <th>0</th>\n",
       "      <td>5001711</td>\n",
       "      <td>0</td>\n",
       "      <td>X</td>\n",
       "    </tr>\n",
       "    <tr>\n",
       "      <th>1</th>\n",
       "      <td>5001711</td>\n",
       "      <td>-1</td>\n",
       "      <td>0</td>\n",
       "    </tr>\n",
       "    <tr>\n",
       "      <th>2</th>\n",
       "      <td>5001711</td>\n",
       "      <td>-2</td>\n",
       "      <td>0</td>\n",
       "    </tr>\n",
       "    <tr>\n",
       "      <th>3</th>\n",
       "      <td>5001711</td>\n",
       "      <td>-3</td>\n",
       "      <td>0</td>\n",
       "    </tr>\n",
       "    <tr>\n",
       "      <th>4</th>\n",
       "      <td>5001712</td>\n",
       "      <td>0</td>\n",
       "      <td>C</td>\n",
       "    </tr>\n",
       "  </tbody>\n",
       "</table>\n",
       "</div>"
      ],
      "text/plain": [
       "        ID  MONTHS_BALANCE STATUS\n",
       "0  5001711               0      X\n",
       "1  5001711              -1      0\n",
       "2  5001711              -2      0\n",
       "3  5001711              -3      0\n",
       "4  5001712               0      C"
      ]
     },
     "execution_count": 5,
     "metadata": {},
     "output_type": "execute_result"
    }
   ],
   "source": [
    "credit_raw.head()"
   ]
  },
  {
   "cell_type": "markdown",
   "id": "01f884de",
   "metadata": {},
   "source": [
    "#### Note\n",
    "* Thankfully both the input and output files contain a common \"# ID\" column. Joining on this column would make the most sense.\n",
    "* Empty values will not be of much use here, for that reason an inner join will serve us best."
   ]
  },
  {
   "cell_type": "code",
   "execution_count": 6,
   "id": "db605977",
   "metadata": {},
   "outputs": [
    {
     "data": {
      "application/vnd.microsoft.datawrangler.viewer.v0+json": {
       "columns": [
        {
         "name": "index",
         "rawType": "int64",
         "type": "integer"
        },
        {
         "name": "ID",
         "rawType": "int64",
         "type": "integer"
        },
        {
         "name": "CODE_GENDER",
         "rawType": "object",
         "type": "string"
        },
        {
         "name": "FLAG_OWN_CAR",
         "rawType": "object",
         "type": "string"
        },
        {
         "name": "FLAG_OWN_REALTY",
         "rawType": "object",
         "type": "string"
        },
        {
         "name": "CNT_CHILDREN",
         "rawType": "int64",
         "type": "integer"
        },
        {
         "name": "AMT_INCOME_TOTAL",
         "rawType": "float64",
         "type": "float"
        },
        {
         "name": "NAME_INCOME_TYPE",
         "rawType": "object",
         "type": "string"
        },
        {
         "name": "NAME_EDUCATION_TYPE",
         "rawType": "object",
         "type": "string"
        },
        {
         "name": "NAME_FAMILY_STATUS",
         "rawType": "object",
         "type": "string"
        },
        {
         "name": "NAME_HOUSING_TYPE",
         "rawType": "object",
         "type": "string"
        },
        {
         "name": "DAYS_BIRTH",
         "rawType": "int64",
         "type": "integer"
        },
        {
         "name": "DAYS_EMPLOYED",
         "rawType": "int64",
         "type": "integer"
        },
        {
         "name": "FLAG_MOBIL",
         "rawType": "int64",
         "type": "integer"
        },
        {
         "name": "FLAG_WORK_PHONE",
         "rawType": "int64",
         "type": "integer"
        },
        {
         "name": "FLAG_PHONE",
         "rawType": "int64",
         "type": "integer"
        },
        {
         "name": "FLAG_EMAIL",
         "rawType": "int64",
         "type": "integer"
        },
        {
         "name": "OCCUPATION_TYPE",
         "rawType": "object",
         "type": "unknown"
        },
        {
         "name": "CNT_FAM_MEMBERS",
         "rawType": "float64",
         "type": "float"
        },
        {
         "name": "MONTHS_BALANCE",
         "rawType": "int64",
         "type": "integer"
        },
        {
         "name": "STATUS",
         "rawType": "object",
         "type": "string"
        }
       ],
       "ref": "1036fdb1-4bd7-43d3-9859-b91205158ce0",
       "rows": [
        [
         "0",
         "5008804",
         "M",
         "Y",
         "Y",
         "0",
         "427500.0",
         "Working",
         "Higher education",
         "Civil marriage",
         "Rented apartment",
         "-12005",
         "-4542",
         "1",
         "1",
         "0",
         "0",
         null,
         "2.0",
         "0",
         "C"
        ],
        [
         "1",
         "5008804",
         "M",
         "Y",
         "Y",
         "0",
         "427500.0",
         "Working",
         "Higher education",
         "Civil marriage",
         "Rented apartment",
         "-12005",
         "-4542",
         "1",
         "1",
         "0",
         "0",
         null,
         "2.0",
         "-1",
         "C"
        ],
        [
         "2",
         "5008804",
         "M",
         "Y",
         "Y",
         "0",
         "427500.0",
         "Working",
         "Higher education",
         "Civil marriage",
         "Rented apartment",
         "-12005",
         "-4542",
         "1",
         "1",
         "0",
         "0",
         null,
         "2.0",
         "-2",
         "C"
        ],
        [
         "3",
         "5008804",
         "M",
         "Y",
         "Y",
         "0",
         "427500.0",
         "Working",
         "Higher education",
         "Civil marriage",
         "Rented apartment",
         "-12005",
         "-4542",
         "1",
         "1",
         "0",
         "0",
         null,
         "2.0",
         "-3",
         "C"
        ],
        [
         "4",
         "5008804",
         "M",
         "Y",
         "Y",
         "0",
         "427500.0",
         "Working",
         "Higher education",
         "Civil marriage",
         "Rented apartment",
         "-12005",
         "-4542",
         "1",
         "1",
         "0",
         "0",
         null,
         "2.0",
         "-4",
         "C"
        ]
       ],
       "shape": {
        "columns": 20,
        "rows": 5
       }
      },
      "text/html": [
       "<div>\n",
       "<style scoped>\n",
       "    .dataframe tbody tr th:only-of-type {\n",
       "        vertical-align: middle;\n",
       "    }\n",
       "\n",
       "    .dataframe tbody tr th {\n",
       "        vertical-align: top;\n",
       "    }\n",
       "\n",
       "    .dataframe thead th {\n",
       "        text-align: right;\n",
       "    }\n",
       "</style>\n",
       "<table border=\"1\" class=\"dataframe\">\n",
       "  <thead>\n",
       "    <tr style=\"text-align: right;\">\n",
       "      <th></th>\n",
       "      <th>ID</th>\n",
       "      <th>CODE_GENDER</th>\n",
       "      <th>FLAG_OWN_CAR</th>\n",
       "      <th>FLAG_OWN_REALTY</th>\n",
       "      <th>CNT_CHILDREN</th>\n",
       "      <th>AMT_INCOME_TOTAL</th>\n",
       "      <th>NAME_INCOME_TYPE</th>\n",
       "      <th>NAME_EDUCATION_TYPE</th>\n",
       "      <th>NAME_FAMILY_STATUS</th>\n",
       "      <th>NAME_HOUSING_TYPE</th>\n",
       "      <th>DAYS_BIRTH</th>\n",
       "      <th>DAYS_EMPLOYED</th>\n",
       "      <th>FLAG_MOBIL</th>\n",
       "      <th>FLAG_WORK_PHONE</th>\n",
       "      <th>FLAG_PHONE</th>\n",
       "      <th>FLAG_EMAIL</th>\n",
       "      <th>OCCUPATION_TYPE</th>\n",
       "      <th>CNT_FAM_MEMBERS</th>\n",
       "      <th>MONTHS_BALANCE</th>\n",
       "      <th>STATUS</th>\n",
       "    </tr>\n",
       "  </thead>\n",
       "  <tbody>\n",
       "    <tr>\n",
       "      <th>0</th>\n",
       "      <td>5008804</td>\n",
       "      <td>M</td>\n",
       "      <td>Y</td>\n",
       "      <td>Y</td>\n",
       "      <td>0</td>\n",
       "      <td>427500.0</td>\n",
       "      <td>Working</td>\n",
       "      <td>Higher education</td>\n",
       "      <td>Civil marriage</td>\n",
       "      <td>Rented apartment</td>\n",
       "      <td>-12005</td>\n",
       "      <td>-4542</td>\n",
       "      <td>1</td>\n",
       "      <td>1</td>\n",
       "      <td>0</td>\n",
       "      <td>0</td>\n",
       "      <td>NaN</td>\n",
       "      <td>2.0</td>\n",
       "      <td>0</td>\n",
       "      <td>C</td>\n",
       "    </tr>\n",
       "    <tr>\n",
       "      <th>1</th>\n",
       "      <td>5008804</td>\n",
       "      <td>M</td>\n",
       "      <td>Y</td>\n",
       "      <td>Y</td>\n",
       "      <td>0</td>\n",
       "      <td>427500.0</td>\n",
       "      <td>Working</td>\n",
       "      <td>Higher education</td>\n",
       "      <td>Civil marriage</td>\n",
       "      <td>Rented apartment</td>\n",
       "      <td>-12005</td>\n",
       "      <td>-4542</td>\n",
       "      <td>1</td>\n",
       "      <td>1</td>\n",
       "      <td>0</td>\n",
       "      <td>0</td>\n",
       "      <td>NaN</td>\n",
       "      <td>2.0</td>\n",
       "      <td>-1</td>\n",
       "      <td>C</td>\n",
       "    </tr>\n",
       "    <tr>\n",
       "      <th>2</th>\n",
       "      <td>5008804</td>\n",
       "      <td>M</td>\n",
       "      <td>Y</td>\n",
       "      <td>Y</td>\n",
       "      <td>0</td>\n",
       "      <td>427500.0</td>\n",
       "      <td>Working</td>\n",
       "      <td>Higher education</td>\n",
       "      <td>Civil marriage</td>\n",
       "      <td>Rented apartment</td>\n",
       "      <td>-12005</td>\n",
       "      <td>-4542</td>\n",
       "      <td>1</td>\n",
       "      <td>1</td>\n",
       "      <td>0</td>\n",
       "      <td>0</td>\n",
       "      <td>NaN</td>\n",
       "      <td>2.0</td>\n",
       "      <td>-2</td>\n",
       "      <td>C</td>\n",
       "    </tr>\n",
       "    <tr>\n",
       "      <th>3</th>\n",
       "      <td>5008804</td>\n",
       "      <td>M</td>\n",
       "      <td>Y</td>\n",
       "      <td>Y</td>\n",
       "      <td>0</td>\n",
       "      <td>427500.0</td>\n",
       "      <td>Working</td>\n",
       "      <td>Higher education</td>\n",
       "      <td>Civil marriage</td>\n",
       "      <td>Rented apartment</td>\n",
       "      <td>-12005</td>\n",
       "      <td>-4542</td>\n",
       "      <td>1</td>\n",
       "      <td>1</td>\n",
       "      <td>0</td>\n",
       "      <td>0</td>\n",
       "      <td>NaN</td>\n",
       "      <td>2.0</td>\n",
       "      <td>-3</td>\n",
       "      <td>C</td>\n",
       "    </tr>\n",
       "    <tr>\n",
       "      <th>4</th>\n",
       "      <td>5008804</td>\n",
       "      <td>M</td>\n",
       "      <td>Y</td>\n",
       "      <td>Y</td>\n",
       "      <td>0</td>\n",
       "      <td>427500.0</td>\n",
       "      <td>Working</td>\n",
       "      <td>Higher education</td>\n",
       "      <td>Civil marriage</td>\n",
       "      <td>Rented apartment</td>\n",
       "      <td>-12005</td>\n",
       "      <td>-4542</td>\n",
       "      <td>1</td>\n",
       "      <td>1</td>\n",
       "      <td>0</td>\n",
       "      <td>0</td>\n",
       "      <td>NaN</td>\n",
       "      <td>2.0</td>\n",
       "      <td>-4</td>\n",
       "      <td>C</td>\n",
       "    </tr>\n",
       "  </tbody>\n",
       "</table>\n",
       "</div>"
      ],
      "text/plain": [
       "        ID CODE_GENDER FLAG_OWN_CAR FLAG_OWN_REALTY  CNT_CHILDREN  \\\n",
       "0  5008804           M            Y               Y             0   \n",
       "1  5008804           M            Y               Y             0   \n",
       "2  5008804           M            Y               Y             0   \n",
       "3  5008804           M            Y               Y             0   \n",
       "4  5008804           M            Y               Y             0   \n",
       "\n",
       "   AMT_INCOME_TOTAL NAME_INCOME_TYPE NAME_EDUCATION_TYPE NAME_FAMILY_STATUS  \\\n",
       "0          427500.0          Working    Higher education     Civil marriage   \n",
       "1          427500.0          Working    Higher education     Civil marriage   \n",
       "2          427500.0          Working    Higher education     Civil marriage   \n",
       "3          427500.0          Working    Higher education     Civil marriage   \n",
       "4          427500.0          Working    Higher education     Civil marriage   \n",
       "\n",
       "  NAME_HOUSING_TYPE  DAYS_BIRTH  DAYS_EMPLOYED  FLAG_MOBIL  FLAG_WORK_PHONE  \\\n",
       "0  Rented apartment      -12005          -4542           1                1   \n",
       "1  Rented apartment      -12005          -4542           1                1   \n",
       "2  Rented apartment      -12005          -4542           1                1   \n",
       "3  Rented apartment      -12005          -4542           1                1   \n",
       "4  Rented apartment      -12005          -4542           1                1   \n",
       "\n",
       "   FLAG_PHONE  FLAG_EMAIL OCCUPATION_TYPE  CNT_FAM_MEMBERS  MONTHS_BALANCE  \\\n",
       "0           0           0             NaN              2.0               0   \n",
       "1           0           0             NaN              2.0              -1   \n",
       "2           0           0             NaN              2.0              -2   \n",
       "3           0           0             NaN              2.0              -3   \n",
       "4           0           0             NaN              2.0              -4   \n",
       "\n",
       "  STATUS  \n",
       "0      C  \n",
       "1      C  \n",
       "2      C  \n",
       "3      C  \n",
       "4      C  "
      ]
     },
     "execution_count": 6,
     "metadata": {},
     "output_type": "execute_result"
    }
   ],
   "source": [
    "# Merge the two DataFrames on the 'ID' column\n",
    "merged_df = pd.merge(app_raw, credit_raw, on='ID', how='inner')\n",
    "merged_df.head()"
   ]
  },
  {
   "cell_type": "code",
   "execution_count": 7,
   "id": "48c730e4",
   "metadata": {},
   "outputs": [
    {
     "name": "stdout",
     "output_type": "stream",
     "text": [
      "438557 1048575 777715\n"
     ]
    }
   ],
   "source": [
    "print(len(app_raw), len(credit_raw), len(merged_df))"
   ]
  },
  {
   "cell_type": "markdown",
   "id": "c8a8c32a",
   "metadata": {},
   "source": [
    "### Input/ Output Imbalances\n",
    "* Comparing the raw counts of each file shows imbalances:\n",
    "    * Inputs: ~439k rows\n",
    "    * Outputs: ~1M rows\n",
    "* However, when combined on the inner join, the result is approximately **780k rows**.\n",
    "* This means there has to be duplicates. Further investigation required."
   ]
  },
  {
   "cell_type": "markdown",
   "id": "3530c8ba",
   "metadata": {},
   "source": [
    "# Investigating Outputs\n",
    "* Starting with output file because it has fewer columns"
   ]
  },
  {
   "cell_type": "code",
   "execution_count": 10,
   "id": "e2d6bb09",
   "metadata": {},
   "outputs": [
    {
     "data": {
      "application/vnd.microsoft.datawrangler.viewer.v0+json": {
       "columns": [
        {
         "name": "index",
         "rawType": "object",
         "type": "string"
        },
        {
         "name": "ID",
         "rawType": "float64",
         "type": "float"
        },
        {
         "name": "MONTHS_BALANCE",
         "rawType": "float64",
         "type": "float"
        },
        {
         "name": "STATUS",
         "rawType": "object",
         "type": "unknown"
        }
       ],
       "ref": "f4d89491-914b-4b66-a05b-1a247f7bab0d",
       "rows": [
        [
         "count",
         "1048575.0",
         "1048575.0",
         "1048575"
        ],
        [
         "unique",
         null,
         null,
         "8"
        ],
        [
         "top",
         null,
         null,
         "C"
        ],
        [
         "freq",
         null,
         null,
         "442031"
        ],
        [
         "mean",
         "5068286.424673486",
         "-19.136998307226474",
         null
        ],
        [
         "std",
         "46150.57850535487",
         "14.023497688326547",
         null
        ],
        [
         "min",
         "5001711.0",
         "-60.0",
         null
        ],
        [
         "25%",
         "5023644.0",
         "-29.0",
         null
        ],
        [
         "50%",
         "5062104.0",
         "-17.0",
         null
        ],
        [
         "75%",
         "5113856.0",
         "-7.0",
         null
        ],
        [
         "max",
         "5150487.0",
         "0.0",
         null
        ]
       ],
       "shape": {
        "columns": 3,
        "rows": 11
       }
      },
      "text/html": [
       "<div>\n",
       "<style scoped>\n",
       "    .dataframe tbody tr th:only-of-type {\n",
       "        vertical-align: middle;\n",
       "    }\n",
       "\n",
       "    .dataframe tbody tr th {\n",
       "        vertical-align: top;\n",
       "    }\n",
       "\n",
       "    .dataframe thead th {\n",
       "        text-align: right;\n",
       "    }\n",
       "</style>\n",
       "<table border=\"1\" class=\"dataframe\">\n",
       "  <thead>\n",
       "    <tr style=\"text-align: right;\">\n",
       "      <th></th>\n",
       "      <th>ID</th>\n",
       "      <th>MONTHS_BALANCE</th>\n",
       "      <th>STATUS</th>\n",
       "    </tr>\n",
       "  </thead>\n",
       "  <tbody>\n",
       "    <tr>\n",
       "      <th>count</th>\n",
       "      <td>1.048575e+06</td>\n",
       "      <td>1.048575e+06</td>\n",
       "      <td>1048575</td>\n",
       "    </tr>\n",
       "    <tr>\n",
       "      <th>unique</th>\n",
       "      <td>NaN</td>\n",
       "      <td>NaN</td>\n",
       "      <td>8</td>\n",
       "    </tr>\n",
       "    <tr>\n",
       "      <th>top</th>\n",
       "      <td>NaN</td>\n",
       "      <td>NaN</td>\n",
       "      <td>C</td>\n",
       "    </tr>\n",
       "    <tr>\n",
       "      <th>freq</th>\n",
       "      <td>NaN</td>\n",
       "      <td>NaN</td>\n",
       "      <td>442031</td>\n",
       "    </tr>\n",
       "    <tr>\n",
       "      <th>mean</th>\n",
       "      <td>5.068286e+06</td>\n",
       "      <td>-1.913700e+01</td>\n",
       "      <td>NaN</td>\n",
       "    </tr>\n",
       "    <tr>\n",
       "      <th>std</th>\n",
       "      <td>4.615058e+04</td>\n",
       "      <td>1.402350e+01</td>\n",
       "      <td>NaN</td>\n",
       "    </tr>\n",
       "    <tr>\n",
       "      <th>min</th>\n",
       "      <td>5.001711e+06</td>\n",
       "      <td>-6.000000e+01</td>\n",
       "      <td>NaN</td>\n",
       "    </tr>\n",
       "    <tr>\n",
       "      <th>25%</th>\n",
       "      <td>5.023644e+06</td>\n",
       "      <td>-2.900000e+01</td>\n",
       "      <td>NaN</td>\n",
       "    </tr>\n",
       "    <tr>\n",
       "      <th>50%</th>\n",
       "      <td>5.062104e+06</td>\n",
       "      <td>-1.700000e+01</td>\n",
       "      <td>NaN</td>\n",
       "    </tr>\n",
       "    <tr>\n",
       "      <th>75%</th>\n",
       "      <td>5.113856e+06</td>\n",
       "      <td>-7.000000e+00</td>\n",
       "      <td>NaN</td>\n",
       "    </tr>\n",
       "    <tr>\n",
       "      <th>max</th>\n",
       "      <td>5.150487e+06</td>\n",
       "      <td>0.000000e+00</td>\n",
       "      <td>NaN</td>\n",
       "    </tr>\n",
       "  </tbody>\n",
       "</table>\n",
       "</div>"
      ],
      "text/plain": [
       "                  ID  MONTHS_BALANCE   STATUS\n",
       "count   1.048575e+06    1.048575e+06  1048575\n",
       "unique           NaN             NaN        8\n",
       "top              NaN             NaN        C\n",
       "freq             NaN             NaN   442031\n",
       "mean    5.068286e+06   -1.913700e+01      NaN\n",
       "std     4.615058e+04    1.402350e+01      NaN\n",
       "min     5.001711e+06   -6.000000e+01      NaN\n",
       "25%     5.023644e+06   -2.900000e+01      NaN\n",
       "50%     5.062104e+06   -1.700000e+01      NaN\n",
       "75%     5.113856e+06   -7.000000e+00      NaN\n",
       "max     5.150487e+06    0.000000e+00      NaN"
      ]
     },
     "execution_count": 10,
     "metadata": {},
     "output_type": "execute_result"
    }
   ],
   "source": [
    "credit_raw.describe(include='all')"
   ]
  },
  {
   "cell_type": "code",
   "execution_count": 9,
   "id": "36244163",
   "metadata": {},
   "outputs": [
    {
     "data": {
      "application/vnd.microsoft.datawrangler.viewer.v0+json": {
       "columns": [
        {
         "name": "index",
         "rawType": "int64",
         "type": "integer"
        },
        {
         "name": "ID",
         "rawType": "int64",
         "type": "integer"
        },
        {
         "name": "MONTHS_BALANCE",
         "rawType": "int64",
         "type": "integer"
        },
        {
         "name": "STATUS",
         "rawType": "object",
         "type": "string"
        }
       ],
       "ref": "e2fb95b9-e509-4cca-881b-72bf71a1deec",
       "rows": [
        [
         "0",
         "5001711",
         "0",
         "X"
        ],
        [
         "1",
         "5001711",
         "-1",
         "0"
        ],
        [
         "2",
         "5001711",
         "-2",
         "0"
        ],
        [
         "3",
         "5001711",
         "-3",
         "0"
        ],
        [
         "4",
         "5001712",
         "0",
         "C"
        ],
        [
         "5",
         "5001712",
         "-1",
         "C"
        ],
        [
         "6",
         "5001712",
         "-2",
         "C"
        ],
        [
         "7",
         "5001712",
         "-3",
         "C"
        ],
        [
         "8",
         "5001712",
         "-4",
         "C"
        ],
        [
         "9",
         "5001712",
         "-5",
         "C"
        ],
        [
         "10",
         "5001712",
         "-6",
         "C"
        ],
        [
         "11",
         "5001712",
         "-7",
         "C"
        ],
        [
         "12",
         "5001712",
         "-8",
         "C"
        ],
        [
         "13",
         "5001712",
         "-9",
         "0"
        ],
        [
         "14",
         "5001712",
         "-10",
         "0"
        ],
        [
         "15",
         "5001712",
         "-11",
         "0"
        ],
        [
         "16",
         "5001712",
         "-12",
         "0"
        ],
        [
         "17",
         "5001712",
         "-13",
         "0"
        ],
        [
         "18",
         "5001712",
         "-14",
         "0"
        ],
        [
         "19",
         "5001712",
         "-15",
         "0"
        ],
        [
         "20",
         "5001712",
         "-16",
         "0"
        ],
        [
         "21",
         "5001712",
         "-17",
         "0"
        ],
        [
         "22",
         "5001712",
         "-18",
         "0"
        ],
        [
         "23",
         "5001713",
         "0",
         "X"
        ],
        [
         "24",
         "5001713",
         "-1",
         "X"
        ],
        [
         "25",
         "5001713",
         "-2",
         "X"
        ],
        [
         "26",
         "5001713",
         "-3",
         "X"
        ],
        [
         "27",
         "5001713",
         "-4",
         "X"
        ],
        [
         "28",
         "5001713",
         "-5",
         "X"
        ],
        [
         "29",
         "5001713",
         "-6",
         "X"
        ],
        [
         "30",
         "5001713",
         "-7",
         "X"
        ],
        [
         "31",
         "5001713",
         "-8",
         "X"
        ],
        [
         "32",
         "5001713",
         "-9",
         "X"
        ],
        [
         "33",
         "5001713",
         "-10",
         "X"
        ],
        [
         "34",
         "5001713",
         "-11",
         "X"
        ],
        [
         "35",
         "5001713",
         "-12",
         "X"
        ],
        [
         "36",
         "5001713",
         "-13",
         "X"
        ],
        [
         "37",
         "5001713",
         "-14",
         "X"
        ],
        [
         "38",
         "5001713",
         "-15",
         "X"
        ],
        [
         "39",
         "5001713",
         "-16",
         "X"
        ],
        [
         "40",
         "5001713",
         "-17",
         "X"
        ],
        [
         "41",
         "5001713",
         "-18",
         "X"
        ],
        [
         "42",
         "5001713",
         "-19",
         "X"
        ],
        [
         "43",
         "5001713",
         "-20",
         "X"
        ],
        [
         "44",
         "5001713",
         "-21",
         "X"
        ],
        [
         "45",
         "5001714",
         "0",
         "X"
        ],
        [
         "46",
         "5001714",
         "-1",
         "X"
        ],
        [
         "47",
         "5001714",
         "-2",
         "X"
        ],
        [
         "48",
         "5001714",
         "-3",
         "X"
        ],
        [
         "49",
         "5001714",
         "-4",
         "X"
        ]
       ],
       "shape": {
        "columns": 3,
        "rows": 1048575
       }
      },
      "text/html": [
       "<div>\n",
       "<style scoped>\n",
       "    .dataframe tbody tr th:only-of-type {\n",
       "        vertical-align: middle;\n",
       "    }\n",
       "\n",
       "    .dataframe tbody tr th {\n",
       "        vertical-align: top;\n",
       "    }\n",
       "\n",
       "    .dataframe thead th {\n",
       "        text-align: right;\n",
       "    }\n",
       "</style>\n",
       "<table border=\"1\" class=\"dataframe\">\n",
       "  <thead>\n",
       "    <tr style=\"text-align: right;\">\n",
       "      <th></th>\n",
       "      <th>ID</th>\n",
       "      <th>MONTHS_BALANCE</th>\n",
       "      <th>STATUS</th>\n",
       "    </tr>\n",
       "  </thead>\n",
       "  <tbody>\n",
       "    <tr>\n",
       "      <th>0</th>\n",
       "      <td>5001711</td>\n",
       "      <td>0</td>\n",
       "      <td>X</td>\n",
       "    </tr>\n",
       "    <tr>\n",
       "      <th>1</th>\n",
       "      <td>5001711</td>\n",
       "      <td>-1</td>\n",
       "      <td>0</td>\n",
       "    </tr>\n",
       "    <tr>\n",
       "      <th>2</th>\n",
       "      <td>5001711</td>\n",
       "      <td>-2</td>\n",
       "      <td>0</td>\n",
       "    </tr>\n",
       "    <tr>\n",
       "      <th>3</th>\n",
       "      <td>5001711</td>\n",
       "      <td>-3</td>\n",
       "      <td>0</td>\n",
       "    </tr>\n",
       "    <tr>\n",
       "      <th>4</th>\n",
       "      <td>5001712</td>\n",
       "      <td>0</td>\n",
       "      <td>C</td>\n",
       "    </tr>\n",
       "    <tr>\n",
       "      <th>...</th>\n",
       "      <td>...</td>\n",
       "      <td>...</td>\n",
       "      <td>...</td>\n",
       "    </tr>\n",
       "    <tr>\n",
       "      <th>1048570</th>\n",
       "      <td>5150487</td>\n",
       "      <td>-25</td>\n",
       "      <td>C</td>\n",
       "    </tr>\n",
       "    <tr>\n",
       "      <th>1048571</th>\n",
       "      <td>5150487</td>\n",
       "      <td>-26</td>\n",
       "      <td>C</td>\n",
       "    </tr>\n",
       "    <tr>\n",
       "      <th>1048572</th>\n",
       "      <td>5150487</td>\n",
       "      <td>-27</td>\n",
       "      <td>C</td>\n",
       "    </tr>\n",
       "    <tr>\n",
       "      <th>1048573</th>\n",
       "      <td>5150487</td>\n",
       "      <td>-28</td>\n",
       "      <td>C</td>\n",
       "    </tr>\n",
       "    <tr>\n",
       "      <th>1048574</th>\n",
       "      <td>5150487</td>\n",
       "      <td>-29</td>\n",
       "      <td>C</td>\n",
       "    </tr>\n",
       "  </tbody>\n",
       "</table>\n",
       "<p>1048575 rows × 3 columns</p>\n",
       "</div>"
      ],
      "text/plain": [
       "              ID  MONTHS_BALANCE STATUS\n",
       "0        5001711               0      X\n",
       "1        5001711              -1      0\n",
       "2        5001711              -2      0\n",
       "3        5001711              -3      0\n",
       "4        5001712               0      C\n",
       "...          ...             ...    ...\n",
       "1048570  5150487             -25      C\n",
       "1048571  5150487             -26      C\n",
       "1048572  5150487             -27      C\n",
       "1048573  5150487             -28      C\n",
       "1048574  5150487             -29      C\n",
       "\n",
       "[1048575 rows x 3 columns]"
      ]
     },
     "execution_count": 9,
     "metadata": {},
     "output_type": "execute_result"
    }
   ],
   "source": [
    "credit_raw"
   ]
  },
  {
   "cell_type": "code",
   "execution_count": null,
   "id": "1302f8a7",
   "metadata": {},
   "outputs": [],
   "source": []
  }
 ],
 "metadata": {
  "kernelspec": {
   "display_name": "Python 3",
   "language": "python",
   "name": "python3"
  },
  "language_info": {
   "codemirror_mode": {
    "name": "ipython",
    "version": 3
   },
   "file_extension": ".py",
   "mimetype": "text/x-python",
   "name": "python",
   "nbconvert_exporter": "python",
   "pygments_lexer": "ipython3",
   "version": "3.10.0"
  }
 },
 "nbformat": 4,
 "nbformat_minor": 5
}
